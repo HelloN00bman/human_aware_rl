{
 "cells": [
  {
   "cell_type": "code",
   "execution_count": 1,
   "id": "contained-conducting",
   "metadata": {},
   "outputs": [],
   "source": [
    "import numpy as np\n",
    "import pandas as pd\n",
    "import matplotlib.pyplot as plt\n",
    "import pickle\n",
    "import json\n",
    "import ipdb\n",
    "%matplotlib inline\n",
    "%config Completer.use_jedi = False"
   ]
  },
  {
   "cell_type": "code",
   "execution_count": 2,
   "id": "convinced-guest",
   "metadata": {},
   "outputs": [],
   "source": [
    "pkl_file = open(\"./human_aware_rl/human_aware_rl/static/human_data/cleaned/2020_hh_trials_train.pickle\", \"rb\")\n",
    "df = pickle.load(pkl_file)"
   ]
  },
  {
   "cell_type": "code",
   "execution_count": 3,
   "id": "material-fountain",
   "metadata": {},
   "outputs": [
    {
     "data": {
      "text/html": [
       "<div>\n",
       "<style scoped>\n",
       "    .dataframe tbody tr th:only-of-type {\n",
       "        vertical-align: middle;\n",
       "    }\n",
       "\n",
       "    .dataframe tbody tr th {\n",
       "        vertical-align: top;\n",
       "    }\n",
       "\n",
       "    .dataframe thead th {\n",
       "        text-align: right;\n",
       "    }\n",
       "</style>\n",
       "<table border=\"1\" class=\"dataframe\">\n",
       "  <thead>\n",
       "    <tr style=\"text-align: right;\">\n",
       "      <th></th>\n",
       "      <th>state</th>\n",
       "      <th>joint_action</th>\n",
       "      <th>reward</th>\n",
       "      <th>time_left</th>\n",
       "      <th>score</th>\n",
       "      <th>time_elapsed</th>\n",
       "      <th>cur_gameloop</th>\n",
       "      <th>layout</th>\n",
       "      <th>layout_name</th>\n",
       "      <th>trial_id</th>\n",
       "      <th>player_0_id</th>\n",
       "      <th>player_1_id</th>\n",
       "      <th>player_0_is_human</th>\n",
       "      <th>player_1_is_human</th>\n",
       "      <th>cur_gameloop_total</th>\n",
       "      <th>score_total</th>\n",
       "      <th>button_press</th>\n",
       "      <th>button_press_total</th>\n",
       "      <th>timesteps_since_interact</th>\n",
       "      <th>button_presses_per_timstep</th>\n",
       "    </tr>\n",
       "  </thead>\n",
       "  <tbody>\n",
       "    <tr>\n",
       "      <th>104706</th>\n",
       "      <td>{\"players\": [{\"position\": [6, 2], \"orientation...</td>\n",
       "      <td>[[0, 0], [0, 0]]</td>\n",
       "      <td>0</td>\n",
       "      <td>59.836342</td>\n",
       "      <td>0</td>\n",
       "      <td>0.163659</td>\n",
       "      <td>1</td>\n",
       "      <td>[[\"X\", \"T\", \"X\", \"X\", \"X\", \"X\", \"X\", \"O\", \"X\"]...</td>\n",
       "      <td>asymmetric_advantages_tomato</td>\n",
       "      <td>A107RJSS561Y7R:3Q5ZZ9ZEVTMZAGUKW8V7VOFCWDI85G1...</td>\n",
       "      <td>e1dfeca129874236befaad8d9e481a3e</td>\n",
       "      <td>6e1413b2cb8544c59eb22023619f2e1a</td>\n",
       "      <td>True</td>\n",
       "      <td>True</td>\n",
       "      <td>396</td>\n",
       "      <td>141</td>\n",
       "      <td>0</td>\n",
       "      <td>266</td>\n",
       "      <td>3</td>\n",
       "      <td>0.671717</td>\n",
       "    </tr>\n",
       "  </tbody>\n",
       "</table>\n",
       "</div>"
      ],
      "text/plain": [
       "                                                    state      joint_action  \\\n",
       "104706  {\"players\": [{\"position\": [6, 2], \"orientation...  [[0, 0], [0, 0]]   \n",
       "\n",
       "        reward  time_left  score  time_elapsed  cur_gameloop  \\\n",
       "104706       0  59.836342      0      0.163659             1   \n",
       "\n",
       "                                                   layout  \\\n",
       "104706  [[\"X\", \"T\", \"X\", \"X\", \"X\", \"X\", \"X\", \"O\", \"X\"]...   \n",
       "\n",
       "                         layout_name  \\\n",
       "104706  asymmetric_advantages_tomato   \n",
       "\n",
       "                                                 trial_id  \\\n",
       "104706  A107RJSS561Y7R:3Q5ZZ9ZEVTMZAGUKW8V7VOFCWDI85G1...   \n",
       "\n",
       "                             player_0_id                       player_1_id  \\\n",
       "104706  e1dfeca129874236befaad8d9e481a3e  6e1413b2cb8544c59eb22023619f2e1a   \n",
       "\n",
       "        player_0_is_human  player_1_is_human  cur_gameloop_total  score_total  \\\n",
       "104706               True               True                 396          141   \n",
       "\n",
       "        button_press  button_press_total  timesteps_since_interact  \\\n",
       "104706             0                 266                         3   \n",
       "\n",
       "        button_presses_per_timstep  \n",
       "104706                    0.671717  "
      ]
     },
     "execution_count": 3,
     "metadata": {},
     "output_type": "execute_result"
    }
   ],
   "source": [
    "df[df.index == 104706]"
   ]
  },
  {
   "cell_type": "code",
   "execution_count": 4,
   "id": "settled-trick",
   "metadata": {},
   "outputs": [],
   "source": [
    "trial_id = df.trial_id.unique()[0]"
   ]
  },
  {
   "cell_type": "code",
   "execution_count": 5,
   "id": "immediate-machine",
   "metadata": {},
   "outputs": [],
   "source": [
    "trial_data = df[df.trial_id == trial_id]"
   ]
  },
  {
   "cell_type": "code",
   "execution_count": 6,
   "id": "thousand-equipment",
   "metadata": {},
   "outputs": [
    {
     "data": {
      "text/plain": [
       "(396, 20)"
      ]
     },
     "execution_count": 6,
     "metadata": {},
     "output_type": "execute_result"
    }
   ],
   "source": [
    "trial_data.shape"
   ]
  },
  {
   "cell_type": "code",
   "execution_count": 7,
   "id": "latter-sunset",
   "metadata": {},
   "outputs": [],
   "source": [
    "trial_data = trial_data.sort_values('cur_gameloop')"
   ]
  },
  {
   "cell_type": "code",
   "execution_count": 8,
   "id": "actual-maine",
   "metadata": {},
   "outputs": [
    {
     "data": {
      "text/plain": [
       "[<matplotlib.lines.Line2D at 0x7fbb081c5430>]"
      ]
     },
     "execution_count": 8,
     "metadata": {},
     "output_type": "execute_result"
    },
    {
     "data": {
      "image/png": "[encoded data removed]",
      "text/plain": [
       "<Figure size 432x288 with 1 Axes>"
      ]
     },
     "metadata": {
      "needs_background": "light"
     },
     "output_type": "display_data"
    }
   ],
   "source": [
    "plt.plot(trial_data.cur_gameloop, trial_data.score)"
   ]
  },
  {
   "cell_type": "code",
   "execution_count": 9,
   "id": "understanding-advantage",
   "metadata": {},
   "outputs": [],
   "source": [
    "action_dict = {(0, 0): 0, (0, 1): 1, (1, 0): 2, (0, -1): 3, (-1, 0): 4, \"interact\": 5}\n",
    "def extract_player_actions(trial_data, player=0):\n",
    "    all_actions = trial_data.sort_values('cur_gameloop').joint_action.tolist()\n",
    "    player_actions = [eval(t)[player] for t in all_actions]\n",
    "    # convert actions to a set of integers\n",
    "    player_actions = [action_dict[tuple(a)] if type(a) == list else action_dict[a] for a in player_actions]\n",
    "    return player_actions"
   ]
  },
  {
   "cell_type": "code",
   "execution_count": 10,
   "id": "nonprofit-table",
   "metadata": {},
   "outputs": [],
   "source": [
    "player0_actions = extract_player_actions(trial_data, 1)"
   ]
  },
  {
   "cell_type": "code",
   "execution_count": 11,
   "id": "infectious-match",
   "metadata": {},
   "outputs": [],
   "source": [
    "NUM_ACTIONS = 6\n",
    "def entropy(dist):\n",
    "    return -np.sum(dist * np.log(dist))\n",
    "def entropy_traj(action_traj):\n",
    "    action_dist = np.zeros(NUM_ACTIONS)\n",
    "    entropy_traj = np.zeros(len(action_traj))\n",
    "    for idx, a in enumerate(action_traj):\n",
    "        action_dist[a] += 1\n",
    "        entropy_traj[idx] = entropy(action_dist / np.sum(action_dist))\n",
    "    return entropy_traj"
   ]
  },
  {
   "cell_type": "code",
   "execution_count": 12,
   "id": "random-quality",
   "metadata": {},
   "outputs": [
    {
     "name": "stderr",
     "output_type": "stream",
     "text": [
      "<ipython-input-11-66d399b74ac3>:3: RuntimeWarning: divide by zero encountered in log\n",
      "  return -np.sum(dist * np.log(dist))\n",
      "<ipython-input-11-66d399b74ac3>:3: RuntimeWarning: invalid value encountered in multiply\n",
      "  return -np.sum(dist * np.log(dist))\n"
     ]
    }
   ],
   "source": [
    "e_traj = entropy_traj(player0_actions)"
   ]
  },
  {
   "cell_type": "code",
   "execution_count": 13,
   "id": "leading-impression",
   "metadata": {},
   "outputs": [
    {
     "data": {
      "text/plain": [
       "[<matplotlib.lines.Line2D at 0x7fbb09b38430>]"
      ]
     },
     "execution_count": 13,
     "metadata": {},
     "output_type": "execute_result"
    },
    {
     "data": {
      "image/png": "[encoded data removed]",
      "text/plain": [
       "<Figure size 432x288 with 1 Axes>"
      ]
     },
     "metadata": {
      "needs_background": "light"
     },
     "output_type": "display_data"
    }
   ],
   "source": [
    "plt.plot(e_traj[~np.isnan(e_traj)])"
   ]
  },
  {
   "cell_type": "code",
   "execution_count": 14,
   "id": "animated-thesis",
   "metadata": {},
   "outputs": [],
   "source": [
    "state_dict = json.loads(trial_data.state.unique()[100])"
   ]
  },
  {
   "cell_type": "code",
   "execution_count": 15,
   "id": "clean-rescue",
   "metadata": {},
   "outputs": [
    {
     "data": {
      "text/plain": [
       "[{'name': 'onion', 'position': [2, 1]},\n",
       " {'name': 'dish', 'position': [2, 4]},\n",
       " {'name': 'soup',\n",
       "  'position': [4, 2],\n",
       "  '_ingredients': [{'name': 'onion', 'position': [4, 2]},\n",
       "   {'name': 'onion', 'position': [4, 2]}],\n",
       "  'cooking_tick': 1,\n",
       "  'is_cooking': True,\n",
       "  'is_ready': False,\n",
       "  'is_idle': False,\n",
       "  'cook_time': 30,\n",
       "  '_cooking_tick': 1}]"
      ]
     },
     "execution_count": 15,
     "metadata": {},
     "output_type": "execute_result"
    }
   ],
   "source": [
    "state_dict['objects']"
   ]
  },
  {
   "cell_type": "code",
   "execution_count": 20,
   "id": "superior-watts",
   "metadata": {},
   "outputs": [],
   "source": [
    "def time_waiting(action_traj):\n",
    "    # TODO: make this a moving average\n",
    "    k = 20 # moving average window size\n",
    "    action_dist = np.zeros(NUM_ACTIONS)\n",
    "    time_waiting = np.zeros(len(action_traj))\n",
    "    prev_k_is_wait = np.zeros(k)\n",
    "    for idx, a in enumerate(action_traj):\n",
    "        action_dist[a] += 1\n",
    "        prev_k_is_wait = np.roll(prev_k_is_wait) # TODO: finish\n",
    "        if idx < k:\n",
    "            time_waiting[idx] = action_dist[0] / (idx+1)\n",
    "        else:\n",
    "            time_waiting[idx] = np.mean(prev_k_is_wait)\n",
    "    return time_waiting"
   ]
  },
  {
   "cell_type": "code",
   "execution_count": 21,
   "id": "common-longer",
   "metadata": {},
   "outputs": [
    {
     "data": {
      "text/plain": [
       "[<matplotlib.lines.Line2D at 0x7fbb09bb2d00>]"
      ]
     },
     "execution_count": 21,
     "metadata": {},
     "output_type": "execute_result"
    },
    {
     "data": {
      "image/png": "[encoded data removed]",
      "text/plain": [
       "<Figure size 432x288 with 1 Axes>"
      ]
     },
     "metadata": {
      "needs_background": "light"
     },
     "output_type": "display_data"
    }
   ],
   "source": [
    "tw = time_waiting(player0_actions)\n",
    "plt.plot(tw)"
   ]
  },
  {
   "cell_type": "code",
   "execution_count": null,
   "id": "honey-favorite",
   "metadata": {},
   "outputs": [],
   "source": []
  }
 ],
 "metadata": {
  "kernelspec": {
   "display_name": "overcooked",
   "language": "python",
   "name": "overcooked"
  },
  "language_info": {
   "codemirror_mode": {
    "name": "ipython",
    "version": 3
   },
   "file_extension": ".py",
   "mimetype": "text/x-python",
   "name": "python",
   "nbconvert_exporter": "python",
   "pygments_lexer": "ipython3",
   "version": "3.7.11"
  }
 },
 "nbformat": 4,
 "nbformat_minor": 5
}
