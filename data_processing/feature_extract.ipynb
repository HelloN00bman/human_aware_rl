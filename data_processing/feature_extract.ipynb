{
 "cells": [
  {
   "cell_type": "code",
   "execution_count": 17,
   "id": "honey-weight",
   "metadata": {},
   "outputs": [],
   "source": [
    "import numpy as np\n",
    "import pandas as pd\n",
    "import matplotlib.pyplot as plt\n",
    "import pickle\n",
    "import json\n",
    "import ipdb\n",
    "from overcooked_ai_py.mdp.overcooked_mdp import OvercookedState, PlayerState, OvercookedGridworld\n",
    "%matplotlib inline\n",
    "%config Completer.use_jedi = False"
   ]
  },
  {
   "cell_type": "code",
   "execution_count": 18,
   "id": "empty-scene",
   "metadata": {},
   "outputs": [],
   "source": [
    "pkl_file = open(\"../human_aware_rl/data/human/anonymized/clean_train_trials.pkl\", \"rb\")\n",
    "df = pickle.load(pkl_file)"
   ]
  },
  {
   "cell_type": "code",
   "execution_count": 19,
   "id": "monthly-carolina",
   "metadata": {},
   "outputs": [],
   "source": [
    "trial_id = df.workerid_num.unique()[0]\n",
    "layout_id = df.layout_name.unique()[0]\n",
    "trial_data = df[(df.workerid_num == trial_id) & (df.layout_name == layout_id)]\n",
    "trial_data = trial_data.sort_values('cur_gameloop')"
   ]
  },
  {
   "cell_type": "code",
   "execution_count": 20,
   "id": "located-wages",
   "metadata": {},
   "outputs": [],
   "source": [
    "def get_state_diff(state, next_state, player, grid):\n",
    "    # only getting the difference in held items\n",
    "    # possible held items: onion, soup, dish\n",
    "    # items = [\"onion\", \"soup\", \"dish\"]\n",
    "    curr_item = None\n",
    "    if \"held_object\" in state:\n",
    "        curr_item = state[\"held_object\"][\"name\"]\n",
    "    next_item = None\n",
    "    if \"held_object\" in next_state:\n",
    "        next_item = next_state[\"held_object\"][\"name\"]\n",
    "    \n",
    "    # possible high level actions: (encode with integer here, do one-hot encoding later)\n",
    "    # 0: pick up onion\n",
    "    # 1: pick pick up dish\n",
    "    # 2: pick up soup (from counter)\n",
    "    # 3: get cooked soup (from pot)\n",
    "    # 4: put down onion\n",
    "    # 5: put down dish\n",
    "    # 6: put down soup (on counter)\n",
    "    # 7: serve soup\n",
    "    \n",
    "    # I think the only way to do this mapping is manually\n",
    "    if curr_item is None and next_item == \"onion\":\n",
    "        return 0\n",
    "    elif curr_item is None and next_item == \"dish\":\n",
    "        return 1\n",
    "    elif curr_item is None and next_item == \"soup\":\n",
    "        return 2\n",
    "    elif curr_item == \"dish\" and next_item == \"soup\":\n",
    "        # TODO: check if this is how the soup item works\n",
    "        return 3\n",
    "    elif curr_item == \"onion\" and next_item is None:\n",
    "        return 4\n",
    "    elif curr_item == \"dish\" and next_item is None:\n",
    "        return 5\n",
    "    elif curr_item == \"soup\" and next_item is None:\n",
    "        # TODO: split based on if soup was served or put on counter (somehow)\n",
    "        return 6\n",
    "\n",
    "def extract_hl_actions(data):\n",
    "    # need to loop through and find the high level actions that the user picks, defined as:\n",
    "    # grabbing an onion, grabbing a plate, grabbing a pot, putting down an object on counter,\n",
    "    # putting an onion in to cook, grabbing a finished meal, or serving a finished meal\n",
    "    data = data.sort_values('cur_gameloop')\n",
    "    times = data.cur_gameloop\n",
    "    grid = None\n",
    "    for index, row in data.iterrows():\n",
    "        if grid is None:\n",
    "            grid = OvercookedGridworld.from_grid(eval(row[\"layout\"]))\n",
    "        # don't care about movement actions, we only need to split on \"interact\" actions\n",
    "        action = eval(row[\"joint_action\"])[0]\n",
    "        state = eval(row[\"state\"])\n",
    "        next_state = eval(row[\"next_state\"])\n",
    "        if action == \"INTERACT\":\n",
    "            get_state_diff(state, )"
   ]
  },
  {
   "cell_type": "code",
   "execution_count": 22,
   "id": "meaningful-adaptation",
   "metadata": {},
   "outputs": [
    {
     "name": "stdout",
     "output_type": "stream",
     "text": [
      "> \u001b[0;32m<ipython-input-20-82d31893e865>\u001b[0m(47)\u001b[0;36mextract_hl_actions\u001b[0;34m()\u001b[0m\n",
      "\u001b[0;32m     46 \u001b[0;31m\u001b[0;31m#     for t in times:\u001b[0m\u001b[0;34m\u001b[0m\u001b[0;34m\u001b[0m\u001b[0;34m\u001b[0m\u001b[0m\n",
      "\u001b[0m\u001b[0;32m---> 47 \u001b[0;31m    \u001b[0;32mfor\u001b[0m \u001b[0mindex\u001b[0m\u001b[0;34m,\u001b[0m \u001b[0mrow\u001b[0m \u001b[0;32min\u001b[0m \u001b[0mdata\u001b[0m\u001b[0;34m.\u001b[0m\u001b[0miterrows\u001b[0m\u001b[0;34m(\u001b[0m\u001b[0;34m)\u001b[0m\u001b[0;34m:\u001b[0m\u001b[0;34m\u001b[0m\u001b[0;34m\u001b[0m\u001b[0m\n",
      "\u001b[0m\u001b[0;32m     48 \u001b[0;31m        \u001b[0;31m# don't care about movement actions, we only need to split on \"interact\" actions\u001b[0m\u001b[0;34m\u001b[0m\u001b[0;34m\u001b[0m\u001b[0;34m\u001b[0m\u001b[0m\n",
      "\u001b[0m\n",
      "ipdb> grid = OvercookedGridworld.from_layout_name(row[\"layout\"])\n",
      "*** FileNotFoundError: [Errno 2] No such file or directory: \"/Users/rapandya/dev/research/longterm_adapt/human_aware_rl/overcooked_ai/overcooked_ai_py/data/layouts/['XXXXXXXXX', 'O XSXOX S', 'X   P 1 X', 'X2  P   X', 'XXXDXDXXX'].layout\"\n",
      "ipdb> vercookedGridworld.from_grid(row[\"layout\"])\n",
      "*** NameError: name 'vercookedGridworld' is not defined\n",
      "ipdb> grid = OvercookedGridworld.from_layout_name(row[\"layout\"])\n",
      "*** FileNotFoundError: [Errno 2] No such file or directory: \"/Users/rapandya/dev/research/longterm_adapt/human_aware_rl/overcooked_ai/overcooked_ai_py/data/layouts/['XXXXXXXXX', 'O XSXOX S', 'X   P 1 X', 'X2  P   X', 'XXXDXDXXX'].layout\"\n",
      "ipdb> grid = OvercookedGridworld.from_grid(row[\"layout\"])\n",
      "*** AssertionError: Left border must not be free\n",
      "ipdb> grid = OvercookedGridworld.from_grid(eval(row[\"layout\"]))\n",
      "ipdb> grid\n",
      "<overcooked_ai_py.mdp.overcooked_mdp.OvercookedGridworld object at 0x7fcccd701e10>\n",
      "ipdb> exit\n"
     ]
    },
    {
     "ename": "BdbQuit",
     "evalue": "",
     "output_type": "error",
     "traceback": [
      "\u001b[0;31m---------------------------------------------------------------------------\u001b[0m",
      "\u001b[0;31mBdbQuit\u001b[0m                                   Traceback (most recent call last)",
      "\u001b[0;32m<ipython-input-22-4e5dd44a9e1b>\u001b[0m in \u001b[0;36m<module>\u001b[0;34m\u001b[0m\n\u001b[0;32m----> 1\u001b[0;31m \u001b[0mextract_hl_actions\u001b[0m\u001b[0;34m(\u001b[0m\u001b[0mtrial_data\u001b[0m\u001b[0;34m)\u001b[0m\u001b[0;34m\u001b[0m\u001b[0;34m\u001b[0m\u001b[0m\n\u001b[0m",
      "\u001b[0;32m<ipython-input-20-82d31893e865>\u001b[0m in \u001b[0;36mextract_hl_actions\u001b[0;34m(data)\u001b[0m\n\u001b[1;32m     45\u001b[0m     \u001b[0mtimes\u001b[0m \u001b[0;34m=\u001b[0m \u001b[0mdata\u001b[0m\u001b[0;34m.\u001b[0m\u001b[0mcur_gameloop\u001b[0m\u001b[0;34m\u001b[0m\u001b[0;34m\u001b[0m\u001b[0m\n\u001b[1;32m     46\u001b[0m \u001b[0;31m#     for t in times:\u001b[0m\u001b[0;34m\u001b[0m\u001b[0;34m\u001b[0m\u001b[0;34m\u001b[0m\u001b[0m\n\u001b[0;32m---> 47\u001b[0;31m     \u001b[0;32mfor\u001b[0m \u001b[0mindex\u001b[0m\u001b[0;34m,\u001b[0m \u001b[0mrow\u001b[0m \u001b[0;32min\u001b[0m \u001b[0mdata\u001b[0m\u001b[0;34m.\u001b[0m\u001b[0miterrows\u001b[0m\u001b[0;34m(\u001b[0m\u001b[0;34m)\u001b[0m\u001b[0;34m:\u001b[0m\u001b[0;34m\u001b[0m\u001b[0;34m\u001b[0m\u001b[0m\n\u001b[0m\u001b[1;32m     48\u001b[0m         \u001b[0;31m# don't care about movement actions, we only need to split on \"interact\" actions\u001b[0m\u001b[0;34m\u001b[0m\u001b[0;34m\u001b[0m\u001b[0;34m\u001b[0m\u001b[0m\n\u001b[1;32m     49\u001b[0m         \u001b[0maction\u001b[0m \u001b[0;34m=\u001b[0m \u001b[0meval\u001b[0m\u001b[0;34m(\u001b[0m\u001b[0mrow\u001b[0m\u001b[0;34m[\u001b[0m\u001b[0;34m\"joint_action\"\u001b[0m\u001b[0;34m]\u001b[0m\u001b[0;34m)\u001b[0m\u001b[0;34m[\u001b[0m\u001b[0;36m0\u001b[0m\u001b[0;34m]\u001b[0m\u001b[0;34m\u001b[0m\u001b[0;34m\u001b[0m\u001b[0m\n",
      "\u001b[0;32m<ipython-input-20-82d31893e865>\u001b[0m in \u001b[0;36mextract_hl_actions\u001b[0;34m(data)\u001b[0m\n\u001b[1;32m     45\u001b[0m     \u001b[0mtimes\u001b[0m \u001b[0;34m=\u001b[0m \u001b[0mdata\u001b[0m\u001b[0;34m.\u001b[0m\u001b[0mcur_gameloop\u001b[0m\u001b[0;34m\u001b[0m\u001b[0;34m\u001b[0m\u001b[0m\n\u001b[1;32m     46\u001b[0m \u001b[0;31m#     for t in times:\u001b[0m\u001b[0;34m\u001b[0m\u001b[0;34m\u001b[0m\u001b[0;34m\u001b[0m\u001b[0m\n\u001b[0;32m---> 47\u001b[0;31m     \u001b[0;32mfor\u001b[0m \u001b[0mindex\u001b[0m\u001b[0;34m,\u001b[0m \u001b[0mrow\u001b[0m \u001b[0;32min\u001b[0m \u001b[0mdata\u001b[0m\u001b[0;34m.\u001b[0m\u001b[0miterrows\u001b[0m\u001b[0;34m(\u001b[0m\u001b[0;34m)\u001b[0m\u001b[0;34m:\u001b[0m\u001b[0;34m\u001b[0m\u001b[0;34m\u001b[0m\u001b[0m\n\u001b[0m\u001b[1;32m     48\u001b[0m         \u001b[0;31m# don't care about movement actions, we only need to split on \"interact\" actions\u001b[0m\u001b[0;34m\u001b[0m\u001b[0;34m\u001b[0m\u001b[0;34m\u001b[0m\u001b[0m\n\u001b[1;32m     49\u001b[0m         \u001b[0maction\u001b[0m \u001b[0;34m=\u001b[0m \u001b[0meval\u001b[0m\u001b[0;34m(\u001b[0m\u001b[0mrow\u001b[0m\u001b[0;34m[\u001b[0m\u001b[0;34m\"joint_action\"\u001b[0m\u001b[0;34m]\u001b[0m\u001b[0;34m)\u001b[0m\u001b[0;34m[\u001b[0m\u001b[0;36m0\u001b[0m\u001b[0;34m]\u001b[0m\u001b[0;34m\u001b[0m\u001b[0;34m\u001b[0m\u001b[0m\n",
      "\u001b[0;32m/opt/anaconda3/envs/overcooked/lib/python3.7/bdb.py\u001b[0m in \u001b[0;36mtrace_dispatch\u001b[0;34m(self, frame, event, arg)\u001b[0m\n\u001b[1;32m     86\u001b[0m             \u001b[0;32mreturn\u001b[0m \u001b[0;31m# None\u001b[0m\u001b[0;34m\u001b[0m\u001b[0;34m\u001b[0m\u001b[0m\n\u001b[1;32m     87\u001b[0m         \u001b[0;32mif\u001b[0m \u001b[0mevent\u001b[0m \u001b[0;34m==\u001b[0m \u001b[0;34m'line'\u001b[0m\u001b[0;34m:\u001b[0m\u001b[0;34m\u001b[0m\u001b[0;34m\u001b[0m\u001b[0m\n\u001b[0;32m---> 88\u001b[0;31m             \u001b[0;32mreturn\u001b[0m \u001b[0mself\u001b[0m\u001b[0;34m.\u001b[0m\u001b[0mdispatch_line\u001b[0m\u001b[0;34m(\u001b[0m\u001b[0mframe\u001b[0m\u001b[0;34m)\u001b[0m\u001b[0;34m\u001b[0m\u001b[0;34m\u001b[0m\u001b[0m\n\u001b[0m\u001b[1;32m     89\u001b[0m         \u001b[0;32mif\u001b[0m \u001b[0mevent\u001b[0m \u001b[0;34m==\u001b[0m \u001b[0;34m'call'\u001b[0m\u001b[0;34m:\u001b[0m\u001b[0;34m\u001b[0m\u001b[0;34m\u001b[0m\u001b[0m\n\u001b[1;32m     90\u001b[0m             \u001b[0;32mreturn\u001b[0m \u001b[0mself\u001b[0m\u001b[0;34m.\u001b[0m\u001b[0mdispatch_call\u001b[0m\u001b[0;34m(\u001b[0m\u001b[0mframe\u001b[0m\u001b[0;34m,\u001b[0m \u001b[0marg\u001b[0m\u001b[0;34m)\u001b[0m\u001b[0;34m\u001b[0m\u001b[0;34m\u001b[0m\u001b[0m\n",
      "\u001b[0;32m/opt/anaconda3/envs/overcooked/lib/python3.7/bdb.py\u001b[0m in \u001b[0;36mdispatch_line\u001b[0;34m(self, frame)\u001b[0m\n\u001b[1;32m    111\u001b[0m         \u001b[0;32mif\u001b[0m \u001b[0mself\u001b[0m\u001b[0;34m.\u001b[0m\u001b[0mstop_here\u001b[0m\u001b[0;34m(\u001b[0m\u001b[0mframe\u001b[0m\u001b[0;34m)\u001b[0m \u001b[0;32mor\u001b[0m \u001b[0mself\u001b[0m\u001b[0;34m.\u001b[0m\u001b[0mbreak_here\u001b[0m\u001b[0;34m(\u001b[0m\u001b[0mframe\u001b[0m\u001b[0;34m)\u001b[0m\u001b[0;34m:\u001b[0m\u001b[0;34m\u001b[0m\u001b[0;34m\u001b[0m\u001b[0m\n\u001b[1;32m    112\u001b[0m             \u001b[0mself\u001b[0m\u001b[0;34m.\u001b[0m\u001b[0muser_line\u001b[0m\u001b[0;34m(\u001b[0m\u001b[0mframe\u001b[0m\u001b[0;34m)\u001b[0m\u001b[0;34m\u001b[0m\u001b[0;34m\u001b[0m\u001b[0m\n\u001b[0;32m--> 113\u001b[0;31m             \u001b[0;32mif\u001b[0m \u001b[0mself\u001b[0m\u001b[0;34m.\u001b[0m\u001b[0mquitting\u001b[0m\u001b[0;34m:\u001b[0m \u001b[0;32mraise\u001b[0m \u001b[0mBdbQuit\u001b[0m\u001b[0;34m\u001b[0m\u001b[0;34m\u001b[0m\u001b[0m\n\u001b[0m\u001b[1;32m    114\u001b[0m         \u001b[0;32mreturn\u001b[0m \u001b[0mself\u001b[0m\u001b[0;34m.\u001b[0m\u001b[0mtrace_dispatch\u001b[0m\u001b[0;34m\u001b[0m\u001b[0;34m\u001b[0m\u001b[0m\n\u001b[1;32m    115\u001b[0m \u001b[0;34m\u001b[0m\u001b[0m\n",
      "\u001b[0;31mBdbQuit\u001b[0m: "
     ]
    }
   ],
   "source": [
    "extract_hl_actions(trial_data)"
   ]
  },
  {
   "cell_type": "code",
   "execution_count": 9,
   "id": "fresh-cornwall",
   "metadata": {},
   "outputs": [],
   "source": [
    "x, y = trial_data[[\"cur_gameloop\", \"joint_action\"]]"
   ]
  },
  {
   "cell_type": "code",
   "execution_count": null,
   "id": "attractive-cooking",
   "metadata": {},
   "outputs": [],
   "source": []
  }
 ],
 "metadata": {
  "kernelspec": {
   "display_name": "overcooked",
   "language": "python",
   "name": "overcooked"
  },
  "language_info": {
   "codemirror_mode": {
    "name": "ipython",
    "version": 3
   },
   "file_extension": ".py",
   "mimetype": "text/x-python",
   "name": "python",
   "nbconvert_exporter": "python",
   "pygments_lexer": "ipython3",
   "version": "3.7.11"
  }
 },
 "nbformat": 4,
 "nbformat_minor": 5
}
